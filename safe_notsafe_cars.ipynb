{
  "nbformat": 4,
  "nbformat_minor": 0,
  "metadata": {
    "colab": {
      "provenance": [],
      "authorship_tag": "ABX9TyMlPlwi1cvocA0TJAAmjA9r",
      "include_colab_link": true
    },
    "kernelspec": {
      "name": "python3",
      "display_name": "Python 3"
    },
    "language_info": {
      "name": "python"
    }
  },
  "cells": [
    {
      "cell_type": "markdown",
      "metadata": {
        "id": "view-in-github",
        "colab_type": "text"
      },
      "source": [
        "<a href=\"https://colab.research.google.com/github/Rishabhjain2003/Safe-NotSafe_Cars/blob/main/safe_notsafe_cars.ipynb\" target=\"_parent\"><img src=\"https://colab.research.google.com/assets/colab-badge.svg\" alt=\"Open In Colab\"/></a>"
      ]
    },
    {
      "cell_type": "code",
      "execution_count": 29,
      "metadata": {
        "colab": {
          "base_uri": "https://localhost:8080/"
        },
        "id": "5-KpCeegbID8",
        "outputId": "ca59ebfe-3673-459d-c0eb-b47a76b59b62"
      },
      "outputs": [
        {
          "output_type": "stream",
          "name": "stdout",
          "text": [
            "  buying  maint doors persons lug_boot safety  class\n",
            "0  vhigh  vhigh     2       2    small    low  unacc\n",
            "1  vhigh  vhigh     2       2    small    med  unacc\n",
            "2  vhigh  vhigh     2       2    small   high  unacc\n",
            "3  vhigh  vhigh     2       2      med    low  unacc\n",
            "4  vhigh  vhigh     2       2      med    med  unacc\n"
          ]
        }
      ],
      "source": [
        "import pandas as pd\n",
        "import numpy as np\n",
        "\n",
        "data = pd.read_csv('/content/car.data', delimiter=',')\n",
        "print(data.head())"
      ]
    },
    {
      "cell_type": "code",
      "source": [
        "def convert_to_binary_4(value):\n",
        "  if value == 'vhigh':\n",
        "    return '4'\n",
        "  elif value == 'high':\n",
        "    return '3'\n",
        "  elif value == 'med':\n",
        "    return '2'\n",
        "  elif value == 'low':\n",
        "    return '1'\n",
        "  else:\n",
        "    return np.nan\n",
        "\n",
        "data['buying'] = data['buying'].map(convert_to_binary_4)\n",
        "print(data)"
      ],
      "metadata": {
        "colab": {
          "base_uri": "https://localhost:8080/"
        },
        "id": "aamuZnDncz-n",
        "outputId": "2183fdd8-64d3-4eb0-a2de-2ff698f7e4b2"
      },
      "execution_count": 30,
      "outputs": [
        {
          "output_type": "stream",
          "name": "stdout",
          "text": [
            "     buying  maint  doors persons lug_boot safety  class\n",
            "0         4  vhigh      2       2    small    low  unacc\n",
            "1         4  vhigh      2       2    small    med  unacc\n",
            "2         4  vhigh      2       2    small   high  unacc\n",
            "3         4  vhigh      2       2      med    low  unacc\n",
            "4         4  vhigh      2       2      med    med  unacc\n",
            "...     ...    ...    ...     ...      ...    ...    ...\n",
            "1723      1    low  5more    more      med    med   good\n",
            "1724      1    low  5more    more      med   high  vgood\n",
            "1725      1    low  5more    more      big    low  unacc\n",
            "1726      1    low  5more    more      big    med   good\n",
            "1727      1    low  5more    more      big   high  vgood\n",
            "\n",
            "[1728 rows x 7 columns]\n"
          ]
        }
      ]
    },
    {
      "cell_type": "code",
      "source": [
        "data['maint'] = data['maint'].map(convert_to_binary_4)\n",
        "print(data)"
      ],
      "metadata": {
        "colab": {
          "base_uri": "https://localhost:8080/"
        },
        "id": "xFEw8uuZdvOS",
        "outputId": "ec9270be-3b1c-4b6c-91fd-88c43b852571"
      },
      "execution_count": 31,
      "outputs": [
        {
          "output_type": "stream",
          "name": "stdout",
          "text": [
            "     buying maint  doors persons lug_boot safety  class\n",
            "0         4     4      2       2    small    low  unacc\n",
            "1         4     4      2       2    small    med  unacc\n",
            "2         4     4      2       2    small   high  unacc\n",
            "3         4     4      2       2      med    low  unacc\n",
            "4         4     4      2       2      med    med  unacc\n",
            "...     ...   ...    ...     ...      ...    ...    ...\n",
            "1723      1     1  5more    more      med    med   good\n",
            "1724      1     1  5more    more      med   high  vgood\n",
            "1725      1     1  5more    more      big    low  unacc\n",
            "1726      1     1  5more    more      big    med   good\n",
            "1727      1     1  5more    more      big   high  vgood\n",
            "\n",
            "[1728 rows x 7 columns]\n"
          ]
        }
      ]
    },
    {
      "cell_type": "code",
      "source": [
        "def convert_to_binary_3(value):\n",
        "  if value == 'high':\n",
        "    return '3'\n",
        "  elif value == 'med':\n",
        "    return '2'\n",
        "  elif value == 'low':\n",
        "    return '1'\n",
        "  else:\n",
        "    return np.nan\n",
        "\n",
        "data['safety'] = data['safety'].map(convert_to_binary_3)\n",
        "print(data)"
      ],
      "metadata": {
        "colab": {
          "base_uri": "https://localhost:8080/"
        },
        "id": "kcCkqQHceHCV",
        "outputId": "93a1effe-8712-449e-ad4b-6696e287468d"
      },
      "execution_count": 32,
      "outputs": [
        {
          "output_type": "stream",
          "name": "stdout",
          "text": [
            "     buying maint  doors persons lug_boot safety  class\n",
            "0         4     4      2       2    small      1  unacc\n",
            "1         4     4      2       2    small      2  unacc\n",
            "2         4     4      2       2    small      3  unacc\n",
            "3         4     4      2       2      med      1  unacc\n",
            "4         4     4      2       2      med      2  unacc\n",
            "...     ...   ...    ...     ...      ...    ...    ...\n",
            "1723      1     1  5more    more      med      2   good\n",
            "1724      1     1  5more    more      med      3  vgood\n",
            "1725      1     1  5more    more      big      1  unacc\n",
            "1726      1     1  5more    more      big      2   good\n",
            "1727      1     1  5more    more      big      3  vgood\n",
            "\n",
            "[1728 rows x 7 columns]\n"
          ]
        }
      ]
    },
    {
      "cell_type": "code",
      "source": [
        "def convert_to_binary(value):\n",
        "  if value == 'vgood':\n",
        "    return '3'\n",
        "  elif value == 'good':\n",
        "    return '2'\n",
        "  elif value == 'acc':\n",
        "    return '1'\n",
        "  elif value == 'unacc':\n",
        "    return '0'\n",
        "  else:\n",
        "    return np.nan\n",
        "\n",
        "data['class'] = data['class'].map(convert_to_binary)\n",
        "print(data)"
      ],
      "metadata": {
        "colab": {
          "base_uri": "https://localhost:8080/"
        },
        "id": "HjLUNkcFeyCy",
        "outputId": "ae1f5045-98ee-4eef-e5b8-8a386438bf78"
      },
      "execution_count": 33,
      "outputs": [
        {
          "output_type": "stream",
          "name": "stdout",
          "text": [
            "     buying maint  doors persons lug_boot safety class\n",
            "0         4     4      2       2    small      1     0\n",
            "1         4     4      2       2    small      2     0\n",
            "2         4     4      2       2    small      3     0\n",
            "3         4     4      2       2      med      1     0\n",
            "4         4     4      2       2      med      2     0\n",
            "...     ...   ...    ...     ...      ...    ...   ...\n",
            "1723      1     1  5more    more      med      2     2\n",
            "1724      1     1  5more    more      med      3     3\n",
            "1725      1     1  5more    more      big      1     0\n",
            "1726      1     1  5more    more      big      2     2\n",
            "1727      1     1  5more    more      big      3     3\n",
            "\n",
            "[1728 rows x 7 columns]\n"
          ]
        }
      ]
    },
    {
      "cell_type": "code",
      "source": [
        "def convert_to_bin(value):\n",
        "  if value == '5more':\n",
        "    return '5'\n",
        "  elif value == 'more':\n",
        "    return '5'\n",
        "  else:\n",
        "    return ''+value\n",
        "\n",
        "data['doors'] = data['doors'].map(convert_to_bin)\n",
        "data['persons'] = data['persons'].map(convert_to_bin)\n",
        "print(data)"
      ],
      "metadata": {
        "colab": {
          "base_uri": "https://localhost:8080/"
        },
        "id": "xzPNDIxOgWq7",
        "outputId": "cff97fdb-ff5d-4d58-ebf5-ea4995c6d6d6"
      },
      "execution_count": 34,
      "outputs": [
        {
          "output_type": "stream",
          "name": "stdout",
          "text": [
            "     buying maint doors persons lug_boot safety class\n",
            "0         4     4     2       2    small      1     0\n",
            "1         4     4     2       2    small      2     0\n",
            "2         4     4     2       2    small      3     0\n",
            "3         4     4     2       2      med      1     0\n",
            "4         4     4     2       2      med      2     0\n",
            "...     ...   ...   ...     ...      ...    ...   ...\n",
            "1723      1     1     5       5      med      2     2\n",
            "1724      1     1     5       5      med      3     3\n",
            "1725      1     1     5       5      big      1     0\n",
            "1726      1     1     5       5      big      2     2\n",
            "1727      1     1     5       5      big      3     3\n",
            "\n",
            "[1728 rows x 7 columns]\n"
          ]
        }
      ]
    },
    {
      "cell_type": "code",
      "source": [
        "def convert_to_binary_lug(value):\n",
        "  if value == 'big':\n",
        "    return '3'\n",
        "  elif value == 'med':\n",
        "    return '2'\n",
        "  elif value == 'small':\n",
        "    return '1'\n",
        "  else:\n",
        "    return np.nan\n",
        "\n",
        "data['lug_boot'] = data['lug_boot'].map(convert_to_binary_lug)\n",
        "print(data)"
      ],
      "metadata": {
        "colab": {
          "base_uri": "https://localhost:8080/"
        },
        "id": "KCPhWNsQg_So",
        "outputId": "52fcebc2-34bd-43ba-f323-1dbe4e1eca57"
      },
      "execution_count": 35,
      "outputs": [
        {
          "output_type": "stream",
          "name": "stdout",
          "text": [
            "     buying maint doors persons lug_boot safety class\n",
            "0         4     4     2       2        1      1     0\n",
            "1         4     4     2       2        1      2     0\n",
            "2         4     4     2       2        1      3     0\n",
            "3         4     4     2       2        2      1     0\n",
            "4         4     4     2       2        2      2     0\n",
            "...     ...   ...   ...     ...      ...    ...   ...\n",
            "1723      1     1     5       5        2      2     2\n",
            "1724      1     1     5       5        2      3     3\n",
            "1725      1     1     5       5        3      1     0\n",
            "1726      1     1     5       5        3      2     2\n",
            "1727      1     1     5       5        3      3     3\n",
            "\n",
            "[1728 rows x 7 columns]\n"
          ]
        }
      ]
    },
    {
      "cell_type": "code",
      "source": [
        "from sklearn.neighbors import KNeighborsClassifier\n",
        "from sklearn.preprocessing import LabelEncoder\n",
        "\n",
        "X = data.drop('class', axis=1)  # Features\n",
        "y = data['class']  # Target variable\n",
        "\n",
        "knn = KNeighborsClassifier(n_neighbors=3)\n",
        "knn.fit(X, y)\n"
      ],
      "metadata": {
        "colab": {
          "base_uri": "https://localhost:8080/",
          "height": 74
        },
        "id": "6JTtNDJ5mHZ1",
        "outputId": "db5fad41-b41e-4b84-a4d8-eed440bb52f3"
      },
      "execution_count": 71,
      "outputs": [
        {
          "output_type": "execute_result",
          "data": {
            "text/plain": [
              "KNeighborsClassifier(n_neighbors=3)"
            ],
            "text/html": [
              "<style>#sk-container-id-3 {color: black;background-color: white;}#sk-container-id-3 pre{padding: 0;}#sk-container-id-3 div.sk-toggleable {background-color: white;}#sk-container-id-3 label.sk-toggleable__label {cursor: pointer;display: block;width: 100%;margin-bottom: 0;padding: 0.3em;box-sizing: border-box;text-align: center;}#sk-container-id-3 label.sk-toggleable__label-arrow:before {content: \"▸\";float: left;margin-right: 0.25em;color: #696969;}#sk-container-id-3 label.sk-toggleable__label-arrow:hover:before {color: black;}#sk-container-id-3 div.sk-estimator:hover label.sk-toggleable__label-arrow:before {color: black;}#sk-container-id-3 div.sk-toggleable__content {max-height: 0;max-width: 0;overflow: hidden;text-align: left;background-color: #f0f8ff;}#sk-container-id-3 div.sk-toggleable__content pre {margin: 0.2em;color: black;border-radius: 0.25em;background-color: #f0f8ff;}#sk-container-id-3 input.sk-toggleable__control:checked~div.sk-toggleable__content {max-height: 200px;max-width: 100%;overflow: auto;}#sk-container-id-3 input.sk-toggleable__control:checked~label.sk-toggleable__label-arrow:before {content: \"▾\";}#sk-container-id-3 div.sk-estimator input.sk-toggleable__control:checked~label.sk-toggleable__label {background-color: #d4ebff;}#sk-container-id-3 div.sk-label input.sk-toggleable__control:checked~label.sk-toggleable__label {background-color: #d4ebff;}#sk-container-id-3 input.sk-hidden--visually {border: 0;clip: rect(1px 1px 1px 1px);clip: rect(1px, 1px, 1px, 1px);height: 1px;margin: -1px;overflow: hidden;padding: 0;position: absolute;width: 1px;}#sk-container-id-3 div.sk-estimator {font-family: monospace;background-color: #f0f8ff;border: 1px dotted black;border-radius: 0.25em;box-sizing: border-box;margin-bottom: 0.5em;}#sk-container-id-3 div.sk-estimator:hover {background-color: #d4ebff;}#sk-container-id-3 div.sk-parallel-item::after {content: \"\";width: 100%;border-bottom: 1px solid gray;flex-grow: 1;}#sk-container-id-3 div.sk-label:hover label.sk-toggleable__label {background-color: #d4ebff;}#sk-container-id-3 div.sk-serial::before {content: \"\";position: absolute;border-left: 1px solid gray;box-sizing: border-box;top: 0;bottom: 0;left: 50%;z-index: 0;}#sk-container-id-3 div.sk-serial {display: flex;flex-direction: column;align-items: center;background-color: white;padding-right: 0.2em;padding-left: 0.2em;position: relative;}#sk-container-id-3 div.sk-item {position: relative;z-index: 1;}#sk-container-id-3 div.sk-parallel {display: flex;align-items: stretch;justify-content: center;background-color: white;position: relative;}#sk-container-id-3 div.sk-item::before, #sk-container-id-3 div.sk-parallel-item::before {content: \"\";position: absolute;border-left: 1px solid gray;box-sizing: border-box;top: 0;bottom: 0;left: 50%;z-index: -1;}#sk-container-id-3 div.sk-parallel-item {display: flex;flex-direction: column;z-index: 1;position: relative;background-color: white;}#sk-container-id-3 div.sk-parallel-item:first-child::after {align-self: flex-end;width: 50%;}#sk-container-id-3 div.sk-parallel-item:last-child::after {align-self: flex-start;width: 50%;}#sk-container-id-3 div.sk-parallel-item:only-child::after {width: 0;}#sk-container-id-3 div.sk-dashed-wrapped {border: 1px dashed gray;margin: 0 0.4em 0.5em 0.4em;box-sizing: border-box;padding-bottom: 0.4em;background-color: white;}#sk-container-id-3 div.sk-label label {font-family: monospace;font-weight: bold;display: inline-block;line-height: 1.2em;}#sk-container-id-3 div.sk-label-container {text-align: center;}#sk-container-id-3 div.sk-container {/* jupyter's `normalize.less` sets `[hidden] { display: none; }` but bootstrap.min.css set `[hidden] { display: none !important; }` so we also need the `!important` here to be able to override the default hidden behavior on the sphinx rendered scikit-learn.org. See: https://github.com/scikit-learn/scikit-learn/issues/21755 */display: inline-block !important;position: relative;}#sk-container-id-3 div.sk-text-repr-fallback {display: none;}</style><div id=\"sk-container-id-3\" class=\"sk-top-container\"><div class=\"sk-text-repr-fallback\"><pre>KNeighborsClassifier(n_neighbors=3)</pre><b>In a Jupyter environment, please rerun this cell to show the HTML representation or trust the notebook. <br />On GitHub, the HTML representation is unable to render, please try loading this page with nbviewer.org.</b></div><div class=\"sk-container\" hidden><div class=\"sk-item\"><div class=\"sk-estimator sk-toggleable\"><input class=\"sk-toggleable__control sk-hidden--visually\" id=\"sk-estimator-id-3\" type=\"checkbox\" checked><label for=\"sk-estimator-id-3\" class=\"sk-toggleable__label sk-toggleable__label-arrow\">KNeighborsClassifier</label><div class=\"sk-toggleable__content\"><pre>KNeighborsClassifier(n_neighbors=3)</pre></div></div></div></div></div>"
            ]
          },
          "metadata": {},
          "execution_count": 71
        }
      ]
    },
    {
      "source": [
        "new_data = np.array([1, 1, 5, 5, 3,3]).reshape(-1, 6)\n",
        "predicted_label = knn.predict(new_data)\n",
        "\n",
        "\n",
        "print(predicted_label)"
      ],
      "cell_type": "code",
      "metadata": {
        "colab": {
          "base_uri": "https://localhost:8080/"
        },
        "id": "AWCNmfs8n-nQ",
        "outputId": "e4436af1-a16a-428a-d555-14f4a5d990fb"
      },
      "execution_count": 86,
      "outputs": [
        {
          "output_type": "stream",
          "name": "stdout",
          "text": [
            "[0]\n"
          ]
        },
        {
          "output_type": "stream",
          "name": "stderr",
          "text": [
            "/usr/local/lib/python3.10/dist-packages/sklearn/base.py:439: UserWarning: X does not have valid feature names, but KNeighborsClassifier was fitted with feature names\n",
            "  warnings.warn(\n"
          ]
        }
      ]
    }
  ]
}